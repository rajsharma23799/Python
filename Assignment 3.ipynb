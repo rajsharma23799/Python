{
 "cells": [
  {
   "cell_type": "code",
   "execution_count": 1,
   "metadata": {},
   "outputs": [],
   "source": [
    "#Task 1"
   ]
  },
  {
   "cell_type": "code",
   "execution_count": 2,
   "metadata": {},
   "outputs": [
    {
     "name": "stdout",
     "output_type": "stream",
     "text": [
      "5\n",
      "0\n",
      "Error= division by zero\n",
      "Enter again:\n",
      "5\n",
      "2\n",
      "Division of 5 and 2 : 2.5\n",
      "!!Finally Executed!!\n"
     ]
    }
   ],
   "source": [
    "#Question 1\n",
    "while(True):\n",
    "    try:\n",
    "        a=int(input())\n",
    "        b=int(input())\n",
    "        div=a/b\n",
    "    except Exception as e:\n",
    "        print(\"Error=\",e)\n",
    "        print('Enter again:')\n",
    "    else:\n",
    "        print(f'Division of {a} and {b} : {div}')\n",
    "        print('!!Finally Executed!!')\n",
    "        break"
   ]
  },
  {
   "cell_type": "code",
   "execution_count": 3,
   "metadata": {},
   "outputs": [
    {
     "name": "stdout",
     "output_type": "stream",
     "text": [
      "Americans play Basketball.\n",
      "Americans play Cricket.\n",
      "Americans watch Basketball.\n",
      "Americans watch Cricket.\n",
      "Indians play Basketball.\n",
      "Indians play Cricket.\n",
      "Indians watch Basketball.\n",
      "Indians watch Cricket.\n"
     ]
    }
   ],
   "source": [
    "#Question 2\n",
    "subjects=[\"Americans\",\"Indians\"]\n",
    "verbs=[\"play\",\"watch\"]\n",
    "objects=[\"Basketball\",\"Cricket\"]\n",
    "s=[i+' '+j+' '+k+'.' for i in subjects for j in verbs for k in objects]\n",
    "for x in range(len(subjects)*len(verbs)*len(objects)):\n",
    "    print(s[x])"
   ]
  },
  {
   "cell_type": "code",
   "execution_count": 4,
   "metadata": {},
   "outputs": [],
   "source": [
    "#Task 2"
   ]
  },
  {
   "cell_type": "code",
   "execution_count": 1,
   "metadata": {},
   "outputs": [],
   "source": [
    "#Question 1\n",
    "import numpy as np\n",
    "def Vandermode(arr,n,increasing=False):\n",
    "    if not increasing:\n",
    "        output=np.array([x**(n-i-1) for x in arr for i in range(n)]).reshape(arr.size,n)\n",
    "    else:\n",
    "        output=np.array([x**(i) for x in arr for i in range(n)]).reshape(arr.size,n)\n",
    "    return output"
   ]
  },
  {
   "cell_type": "code",
   "execution_count": 2,
   "metadata": {},
   "outputs": [
    {
     "name": "stdout",
     "output_type": "stream",
     "text": [
      "1 2 3 4\n",
      "4\n"
     ]
    }
   ],
   "source": [
    "arr=np.array(list(map(int,input().split(' '))))\n",
    "n=int(input())"
   ]
  },
  {
   "cell_type": "code",
   "execution_count": 3,
   "metadata": {},
   "outputs": [
    {
     "data": {
      "text/plain": [
       "array([[ 1,  1,  1,  1],\n",
       "       [ 8,  4,  2,  1],\n",
       "       [27,  9,  3,  1],\n",
       "       [64, 16,  4,  1]])"
      ]
     },
     "execution_count": 3,
     "metadata": {},
     "output_type": "execute_result"
    }
   ],
   "source": [
    "Vandermode(arr,n)"
   ]
  },
  {
   "cell_type": "code",
   "execution_count": 4,
   "metadata": {},
   "outputs": [
    {
     "data": {
      "text/plain": [
       "array([[ 1,  1,  1,  1],\n",
       "       [ 1,  2,  4,  8],\n",
       "       [ 1,  3,  9, 27],\n",
       "       [ 1,  4, 16, 64]])"
      ]
     },
     "execution_count": 4,
     "metadata": {},
     "output_type": "execute_result"
    }
   ],
   "source": [
    "Vandermode(arr,n,True)"
   ]
  }
 ],
 "metadata": {
  "kernelspec": {
   "display_name": "Python 3",
   "language": "python",
   "name": "python3"
  },
  "language_info": {
   "codemirror_mode": {
    "name": "ipython",
    "version": 3
   },
   "file_extension": ".py",
   "mimetype": "text/x-python",
   "name": "python",
   "nbconvert_exporter": "python",
   "pygments_lexer": "ipython3",
   "version": "3.7.4"
  }
 },
 "nbformat": 4,
 "nbformat_minor": 2
}
